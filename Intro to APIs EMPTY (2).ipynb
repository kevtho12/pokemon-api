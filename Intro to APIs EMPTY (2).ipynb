{
 "cells": [
  {
   "cell_type": "markdown",
   "id": "7196054f",
   "metadata": {},
   "source": [
    "# Working with APIs"
   ]
  },
  {
   "cell_type": "markdown",
   "id": "0547b71e",
   "metadata": {},
   "source": [
    "API stands for Application programming interface<br>\n",
    "APIs are a way for applications to talk to eachother<br>\n",
    "In python we use the requests package to handle the connection<br>\n",
    "<small><strong>Note: It is requests with an s not request(this is a different package)</strong></small><br>\n",
    "Most API's communicate with data in the form of JSON<br>\n",
    "JSON stands for JavaScript Object Notation"
   ]
  },
  {
   "cell_type": "code",
   "execution_count": 23,
   "id": "4db9d154",
   "metadata": {},
   "outputs": [],
   "source": [
    "#import the packages we need:\n",
    "import requests, json"
   ]
  },
  {
   "cell_type": "markdown",
   "id": "e8c2ce51",
   "metadata": {},
   "source": [
    "We will be connecting to the Ergast F1 Racer API today:\n",
    "http://ergast.com/mrd/\n",
    "\n",
    "to view JSON data nicely in the Chrome browser install the extension JSONview"
   ]
  },
  {
   "cell_type": "code",
   "execution_count": 3,
   "id": "f60c1b4a",
   "metadata": {},
   "outputs": [],
   "source": [
    "url = 'http://ergast.com/api/f1/2008/5/driverStandings.json'"
   ]
  },
  {
   "cell_type": "code",
   "execution_count": 4,
   "id": "7b63a204",
   "metadata": {},
   "outputs": [
    {
     "name": "stdout",
     "output_type": "stream",
     "text": [
      "<Response [200]>\n"
     ]
    }
   ],
   "source": [
    "#response object\n",
    "response = requests.get(url)\n",
    "print(response)"
   ]
  },
  {
   "cell_type": "code",
   "execution_count": 5,
   "id": "c6d1fdaf",
   "metadata": {},
   "outputs": [
    {
     "data": {
      "text/plain": [
       "True"
      ]
     },
     "execution_count": 5,
     "metadata": {},
     "output_type": "execute_result"
    }
   ],
   "source": [
    "#check and make sure we got a successful response from the API\n",
    "response.ok"
   ]
  },
  {
   "cell_type": "code",
   "execution_count": null,
   "id": "52c440c6",
   "metadata": {
    "scrolled": true
   },
   "outputs": [],
   "source": []
  },
  {
   "cell_type": "code",
   "execution_count": 60,
   "id": "ed4d3256",
   "metadata": {
    "scrolled": true
   },
   "outputs": [],
   "source": [
    "#view the response as a JSON\n"
   ]
  },
  {
   "cell_type": "code",
   "execution_count": 7,
   "id": "92e6cd2c",
   "metadata": {},
   "outputs": [
    {
     "data": {
      "text/plain": [
       "dict"
      ]
     },
     "execution_count": 7,
     "metadata": {},
     "output_type": "execute_result"
    }
   ],
   "source": [
    "type(response.json())"
   ]
  },
  {
   "cell_type": "code",
   "execution_count": 61,
   "id": "f074dfcf",
   "metadata": {},
   "outputs": [
    {
     "ename": "KeyError",
     "evalue": "'MRData'",
     "output_type": "error",
     "traceback": [
      "\u001b[1;31m---------------------------------------------------------------------------\u001b[0m",
      "\u001b[1;31mKeyError\u001b[0m                                  Traceback (most recent call last)",
      "Input \u001b[1;32mIn [61]\u001b[0m, in \u001b[0;36m<cell line: 2>\u001b[1;34m()\u001b[0m\n\u001b[0;32m      1\u001b[0m \u001b[38;5;66;03m# We only want the Driver Standings\u001b[39;00m\n\u001b[1;32m----> 2\u001b[0m my_racer_data \u001b[38;5;241m=\u001b[39m \u001b[43mresponse\u001b[49m\u001b[38;5;241;43m.\u001b[39;49m\u001b[43mjson\u001b[49m\u001b[43m(\u001b[49m\u001b[43m)\u001b[49m\u001b[43m[\u001b[49m\u001b[38;5;124;43m'\u001b[39;49m\u001b[38;5;124;43mMRData\u001b[39;49m\u001b[38;5;124;43m'\u001b[39;49m\u001b[43m]\u001b[49m[\u001b[38;5;124m'\u001b[39m\u001b[38;5;124mStandingsTable\u001b[39m\u001b[38;5;124m'\u001b[39m][\u001b[38;5;124m'\u001b[39m\u001b[38;5;124mStandingsLists\u001b[39m\u001b[38;5;124m'\u001b[39m][\u001b[38;5;241m0\u001b[39m][\u001b[38;5;124m'\u001b[39m\u001b[38;5;124mDriverStandings\u001b[39m\u001b[38;5;124m'\u001b[39m]\n",
      "\u001b[1;31mKeyError\u001b[0m: 'MRData'"
     ]
    }
   ],
   "source": [
    "# We only want the Driver Standings\n",
    "my_racer_data = response.json()['MRData']['StandingsTable']['StandingsLists'][0]['DriverStandings']\n"
   ]
  },
  {
   "cell_type": "code",
   "execution_count": 9,
   "id": "be46a950",
   "metadata": {},
   "outputs": [
    {
     "ename": "NameError",
     "evalue": "name 'data' is not defined",
     "output_type": "error",
     "traceback": [
      "\u001b[1;31m---------------------------------------------------------------------------\u001b[0m",
      "\u001b[1;31mNameError\u001b[0m                                 Traceback (most recent call last)",
      "Input \u001b[1;32mIn [9]\u001b[0m, in \u001b[0;36m<cell line: 20>\u001b[1;34m()\u001b[0m\n\u001b[0;32m     17\u001b[0m         new_data\u001b[38;5;241m.\u001b[39mappend(racer_dict)\n\u001b[0;32m     18\u001b[0m     \u001b[38;5;28;01mreturn\u001b[39;00m new_data\n\u001b[1;32m---> 20\u001b[0m \u001b[43mget_racer_info\u001b[49m\u001b[43m(\u001b[49m\u001b[43mmy_racer_data\u001b[49m\u001b[43m)\u001b[49m\n",
      "Input \u001b[1;32mIn [9]\u001b[0m, in \u001b[0;36mget_racer_info\u001b[1;34m(my_racer_data)\u001b[0m\n\u001b[0;32m      1\u001b[0m \u001b[38;5;28;01mdef\u001b[39;00m \u001b[38;5;21mget_racer_info\u001b[39m(my_racer_data):\n\u001b[0;32m      2\u001b[0m     new_data \u001b[38;5;241m=\u001b[39m []\n\u001b[1;32m----> 3\u001b[0m     \u001b[38;5;28;01mfor\u001b[39;00m racer \u001b[38;5;129;01min\u001b[39;00m \u001b[43mdata\u001b[49m:\n\u001b[0;32m      4\u001b[0m         racer_dict \u001b[38;5;241m=\u001b[39m {}\n\u001b[0;32m      5\u001b[0m         racer_name \u001b[38;5;241m=\u001b[39m \u001b[38;5;124mf\u001b[39m\u001b[38;5;124m\"\u001b[39m\u001b[38;5;132;01m{\u001b[39;00mracer[\u001b[38;5;124m'\u001b[39m\u001b[38;5;124mDriver\u001b[39m\u001b[38;5;124m'\u001b[39m][\u001b[38;5;124m'\u001b[39m\u001b[38;5;124mgivenName\u001b[39m\u001b[38;5;124m'\u001b[39m]\u001b[38;5;132;01m}\u001b[39;00m\u001b[38;5;124m \u001b[39m\u001b[38;5;132;01m{\u001b[39;00mracer[\u001b[38;5;124m'\u001b[39m\u001b[38;5;124mDriver\u001b[39m\u001b[38;5;124m'\u001b[39m][\u001b[38;5;124m'\u001b[39m\u001b[38;5;124mfamilyName\u001b[39m\u001b[38;5;124m'\u001b[39m]\u001b[38;5;132;01m}\u001b[39;00m\u001b[38;5;124m\"\u001b[39m\n",
      "\u001b[1;31mNameError\u001b[0m: name 'data' is not defined"
     ]
    }
   ],
   "source": [
    "def get_racer_info(my_racer_data):\n",
    "    new_data = []\n",
    "    for racer in data:\n",
    "        racer_dict = {}\n",
    "        racer_name = f\"{racer['Driver']['givenName']} {racer['Driver']['familyName']}\"\n",
    "        \n",
    "        racer_dict[racer_name]={\n",
    "            'first_name' : racer['Driver']['givenName'],\n",
    "            'last_name' : racer ['Driver']['familyName'],\n",
    "            'postion' : racer['position'],\n",
    "            'wins' : racer['wins'],\n",
    "            'DOB' : racer['Driver']['dateOfBirth'],\n",
    "            'nationality' : racer['Driver']['nationality'],\n",
    "            'constructor' : racer['Constructors'][0]['name']\n",
    "        }\n",
    "        \n",
    "        new_data.append(racer_dict)\n",
    "    return new_data\n",
    "\n",
    "get_racer_info(my_racer_data)"
   ]
  },
  {
   "cell_type": "code",
   "execution_count": null,
   "id": "3740c752",
   "metadata": {},
   "outputs": [],
   "source": [
    "def get_driver_info_by_year_and_round(year,r):\n",
    "    url = f'http://ergast.com/api/f1/{year}/{r}/driverstandings.json'\n",
    "    response = requests.get(url)\n",
    "    if not response.json()['MRData']['StandingsTable']['StandingsLists']:\n",
    "        return 'we had an error'\n",
    "    data = response.json()['MRData']['StandingsTable']['StandingsLists'][0]['DriverStandings']\n",
    "    return get_racer_info(data)\n",
    "\n",
    "get_driver_info_by_year_and_round(2019,4)\n",
    "\n",
    "def get_pokemon_info():\n",
    "    new_data = []\n",
    "    \n",
    "    pokemon_dict = {}\n",
    "    pokemon_name = f\"{starmie['species']['name']}\"\n",
    "    \n",
    "    \n",
    "    pokemon_dict[pokemon_name]={\n",
    "        'Name' : starmie['species']['name'],\n",
    "        'Ability' : starmie ['abilities'][0]['ability']['name']\n",
    "        \n",
    "    }\n",
    "            \n",
    "        \n",
    "    new_data.append(pokemon_dict)\n",
    "    return new_data\n",
    "get_pokemon_in\n",
    "\n",
    "\n",
    "    "
   ]
  },
  {
   "cell_type": "markdown",
   "id": "6d546014",
   "metadata": {},
   "source": [
    "# <strong>Homework</strong>\n",
    "check out this Pokemon API https://pokeapi.co/\n",
    "Use the requests package to connect to this API and get and store data for 5 different pokemon.\n",
    "Get the pokemons: name, atleast one ability's name, base_experience, and the URL for its sprite (an image that shows up on screen) for the 'front_shiny', attack base_state, hp base_stat, defense base_stat"
   ]
  },
  {
   "cell_type": "code",
   "execution_count": 59,
   "id": "5a9081e3",
   "metadata": {},
   "outputs": [
    {
     "name": "stdout",
     "output_type": "stream",
     "text": [
      "{'Name': 'starmie', 'Ability': 'illuminate', 'Base Experience': 182, 'image': 'https://raw.githubusercontent.com/PokeAPI/sprites/master/sprites/pokemon/shiny/121.png', 'attack': 75, 'hp': 60, 'defense': 85}\n",
      "{'Name': 'metapod', 'Ability': 'shed-skin', 'Base Experience': 72, 'image': 'https://raw.githubusercontent.com/PokeAPI/sprites/master/sprites/pokemon/shiny/11.png', 'attack': 20, 'hp': 50, 'defense': 55}\n",
      "{'Name': 'hypno', 'Ability': 'insomnia', 'Base Experience': 169, 'image': 'https://raw.githubusercontent.com/PokeAPI/sprites/master/sprites/pokemon/shiny/97.png', 'attack': 73, 'hp': 85, 'defense': 70}\n",
      "{'Name': 'durant', 'Ability': 'swarm', 'Base Experience': 169, 'image': 'https://raw.githubusercontent.com/PokeAPI/sprites/master/sprites/pokemon/shiny/632.png', 'attack': 109, 'hp': 58, 'defense': 112}\n",
      "{'Name': 'spearow', 'Ability': 'keen-eye', 'Base Experience': 52, 'image': 'https://raw.githubusercontent.com/PokeAPI/sprites/master/sprites/pokemon/shiny/21.png', 'attack': 60, 'hp': 40, 'defense': 30}\n"
     ]
    }
   ],
   "source": [
    "starmie = requests.get('https://pokeapi.co/api/v2/pokemon/starmie')\n",
    "\n",
    "starmie = starmie.json()\n",
    "\n",
    "\n",
    "\n",
    "starmie_dict = {\n",
    "    'Name' : starmie['species']['name'],\n",
    "    'Ability' : starmie ['abilities'][0]['ability']['name'],\n",
    "    'Base Experience' : starmie ['base_experience'],\n",
    "    'image' : starmie ['sprites'] ['front_shiny'],\n",
    "    'attack' : starmie ['stats'][1]['base_stat'],\n",
    "    'hp' : starmie ['stats'][0]['base_stat'],\n",
    "    'defense' : starmie ['stats'][2]['base_stat']                \n",
    "}\n",
    "            \n",
    "print(starmie_dict)\n",
    "\n",
    "\n",
    "metapod = requests.get('https://pokeapi.co/api/v2/pokemon/metapod')\n",
    "\n",
    "metapod = metapod.json()\n",
    "   \n",
    "metapod_dict = {\n",
    "    'Name' : metapod['species']['name'],\n",
    "    'Ability' : metapod ['abilities'][0]['ability']['name'],\n",
    "    'Base Experience' : metapod ['base_experience'],\n",
    "    'image' : metapod ['sprites'] ['front_shiny'],\n",
    "    'attack' : metapod ['stats'][1]['base_stat'],\n",
    "    'hp' : metapod ['stats'][0]['base_stat'],\n",
    "    'defense' : metapod ['stats'][2]['base_stat']                \n",
    "}\n",
    "            \n",
    "print(metapod_dict)\n",
    "\n",
    "hypno = requests.get('https://pokeapi.co/api/v2/pokemon/hypno')\n",
    "\n",
    "hypno = hypno.json()\n",
    "\n",
    "hypno_dict = {\n",
    "    'Name' : hypno['species']['name'],\n",
    "    'Ability' : hypno ['abilities'][0]['ability']['name'],\n",
    "    'Base Experience' : hypno ['base_experience'],\n",
    "    'image' : hypno ['sprites'] ['front_shiny'],\n",
    "    'attack' : hypno ['stats'][1]['base_stat'],\n",
    "    'hp' : hypno ['stats'][0]['base_stat'],\n",
    "    'defense' : hypno ['stats'][2]['base_stat']                \n",
    "}\n",
    "            \n",
    "print(hypno_dict)\n",
    "\n",
    "durant = requests.get('https://pokeapi.co/api/v2/pokemon/durant')\n",
    "\n",
    "durant = durant.json()\n",
    "\n",
    "durant_dict = {\n",
    "    'Name' : durant['species']['name'],\n",
    "    'Ability' : durant['abilities'][0]['ability']['name'],\n",
    "    'Base Experience' : durant ['base_experience'],\n",
    "    'image' : durant ['sprites'] ['front_shiny'],\n",
    "    'attack' : durant ['stats'][1]['base_stat'],\n",
    "    'hp' : durant ['stats'][0]['base_stat'],\n",
    "    'defense' : durant ['stats'][2]['base_stat']                \n",
    "}\n",
    "            \n",
    "print(durant_dict)\n",
    "\n",
    "spearow = requests.get('https://pokeapi.co/api/v2/pokemon/spearow')\n",
    "\n",
    "spearow = spearow.json()\n",
    "\n",
    "spearow_dict = {\n",
    "    'Name' : spearow['species']['name'],\n",
    "    'Ability' : spearow['abilities'][0]['ability']['name'],\n",
    "    'Base Experience' : spearow ['base_experience'],\n",
    "    'image' : spearow ['sprites'] ['front_shiny'],\n",
    "    'attack' : spearow ['stats'][1]['base_stat'],\n",
    "    'hp' : spearow ['stats'][0]['base_stat'],\n",
    "    'defense' : spearow ['stats'][2]['base_stat']                \n",
    "}\n",
    "            \n",
    "print(spearow_dict)"
   ]
  },
  {
   "cell_type": "code",
   "execution_count": null,
   "id": "4e65ccc4",
   "metadata": {},
   "outputs": [],
   "source": []
  }
 ],
 "metadata": {
  "kernelspec": {
   "display_name": "Python 3 (ipykernel)",
   "language": "python",
   "name": "python3"
  },
  "language_info": {
   "codemirror_mode": {
    "name": "ipython",
    "version": 3
   },
   "file_extension": ".py",
   "mimetype": "text/x-python",
   "name": "python",
   "nbconvert_exporter": "python",
   "pygments_lexer": "ipython3",
   "version": "3.9.12"
  }
 },
 "nbformat": 4,
 "nbformat_minor": 5
}
